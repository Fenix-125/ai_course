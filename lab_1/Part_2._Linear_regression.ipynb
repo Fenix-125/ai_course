{
 "cells": [
  {
   "cell_type": "code",
   "execution_count": null,
   "metadata": {},
   "outputs": [],
   "source": [
    "%matplotlib inline\n",
    "from IPython.display import clear_output\n",
    "import matplotlib.pyplot as plt\n",
    "import numpy as np\n",
    "import time\n",
    "from sklearn.datasets import make_blobs, make_moons"
   ]
  },
  {
   "cell_type": "code",
   "execution_count": null,
   "metadata": {},
   "outputs": [],
   "source": [
    "def add_intercept(X):\n",
    "    # to simplify calculations we add ones column to data for multiplication with intercept\n",
    "    intercept = np.ones((X.shape[0], 1))\n",
    "    return np.concatenate((intercept, X), axis=1)\n",
    "\n",
    "def vizualize_linear_regression(X, y, theta):\n",
    "    plt.scatter(X[:, 1], y, alpha=0.5)\n",
    "    x_axis = np.arange(np.min(X), np.max(X), 0.01).reshape(-1, 1)\n",
    "    y_axis = linear_predict(add_intercept(x_axis), theta)\n",
    "    plt.plot(x_axis, y_axis, lw=2, c=\"r\")\n",
    "    plt.show()\n",
    "\n",
    "def vizualize_logistic_regression(X, y, theta, treshold=0.5):\n",
    "    plt.scatter(X[:, 1], X[:, 2], c=y, alpha=0.5)\n",
    "    eps = 0.0001\n",
    "    y_axis = np.arange(np.min(X[:, 2]), np.max(X[:, 2]), 0.01).reshape(-1, 1)\n",
    "    x_axis = (-np.log((1-treshold)/treshold) - add_intercept(y_axis).dot(theta[:2]))/(theta[2] + eps)\n",
    "    plt.plot(x_axis, y_axis, lw=2, c=\"r\")\n",
    "    plt.show()\n",
    "    \n",
    "def data_generator_linear_regression(n=100, intercept=0, coef=np.array([1]), var=0.1):\n",
    "    X = np.random.rand(n, coef.shape[0]) \n",
    "    theta = np.insert(coef, 0, intercept)\n",
    "    y = add_intercept(X).dot(theta) + np.random.normal(0, var, (n))\n",
    "    return X, y\n",
    "\n",
    "def data_generator_logistic_regression(n=100, data=\"blobs\"):\n",
    "    if data == \"blobs\":\n",
    "        X, y = make_blobs(n, centers=2)\n",
    "    elif data == \"moons\":\n",
    "        X, y = make_moons(n)\n",
    "    return X, y"
   ]
  },
  {
   "cell_type": "markdown",
   "metadata": {},
   "source": [
    "# Linear regression"
   ]
  },
  {
   "cell_type": "markdown",
   "metadata": {},
   "source": [
    "(2 points) Implement predictor for linear regression:\n",
    "$$ h_\\theta (X) = \\theta^TX $$"
   ]
  },
  {
   "cell_type": "code",
   "execution_count": null,
   "metadata": {},
   "outputs": [],
   "source": [
    "def linear_predict(X, theta):\n",
    "    # your code hear"
   ]
  },
  {
   "cell_type": "markdown",
   "metadata": {},
   "source": [
    "(3 points) Implement linear cost function:\n",
    "$$ J(\\theta) = -\\dfrac{1}{2n}\\sum_{i=1}^{n}(h_\\theta (X^{(i)})-y^{(i)})^2 $$"
   ]
  },
  {
   "cell_type": "code",
   "execution_count": null,
   "metadata": {},
   "outputs": [],
   "source": [
    "def linear_cost(X, y, theta):\n",
    "    # your code hear"
   ]
  },
  {
   "cell_type": "markdown",
   "metadata": {},
   "source": [
    "(3 points) Implement gradient function for linear regression:\n",
    "$$\\frac{\\partial}{\\partial \\theta_j} J(\\theta) = -\\dfrac{1}{n}\\sum_{i=1}^{n}\\left( h_\\theta(x^{(i)}) - y^{(i)} \\right) x^{(i)} $$"
   ]
  },
  {
   "cell_type": "code",
   "execution_count": null,
   "metadata": {},
   "outputs": [],
   "source": [
    "def linear_gradient(X, y, theta):\n",
    "    # your code hear"
   ]
  },
  {
   "cell_type": "markdown",
   "metadata": {},
   "source": [
    "(2 points) Implement weights initialization and weights update:\n",
    "$$ \\theta = \\theta - \\alpha \\nabla_\\theta J(\\theta) $$"
   ]
  },
  {
   "cell_type": "code",
   "execution_count": null,
   "metadata": {},
   "outputs": [],
   "source": [
    "def fit_linear(X, y, lr=2, max_iter=10, epsilon=0.01, visualize=False):\n",
    "    X = add_intercept(X)\n",
    "    # randomly initialize weights vector with ones coresponding to X shape\n",
    "    theta = # your code here\n",
    "    cost = linear_cost(X, y, theta)\n",
    "    cost_list = [cost]\n",
    "    for i in range(max_iter):\n",
    "        # update values of weights based on gradient\n",
    "        theta -= # your code here\n",
    "        \n",
    "        cost = linear_cost(X, y, theta)\n",
    "        cost_list.append(cost)\n",
    "        print(cost)\n",
    "        if visualize == True:\n",
    "            time.sleep(0.1)\n",
    "            clear_output(wait=True)\n",
    "            vizualize_linear_regression(X, y, theta)\n",
    "        \n",
    "        if np.abs(cost_list[-1] - cost_list[-2]) < epsilon:\n",
    "            break \n",
    "    print(\"theta\", theta)\n",
    "    print(\"cost\", cost)\n",
    "    return theta"
   ]
  },
  {
   "cell_type": "markdown",
   "metadata": {},
   "source": [
    "(2 points) Try different parameters of lr and max_iter, what is optimal value? \n",
    "Experiment with different data generators.  \n",
    "Write short summary on experiments.  \n",
    "(In case of single dimensional data you can use vizualization.)"
   ]
  },
  {
   "cell_type": "code",
   "execution_count": null,
   "metadata": {
    "scrolled": false
   },
   "outputs": [],
   "source": [
    "X, y = data_generator_linear_regression()\n",
    "fit(X, y)"
   ]
  },
  {
   "cell_type": "markdown",
   "metadata": {},
   "source": [
    "(4 points) Try to find coeficients just with linear algebra toolbox instead of optimization:"
   ]
  },
  {
   "cell_type": "code",
   "execution_count": null,
   "metadata": {},
   "outputs": [],
   "source": [
    "def least_squere(X, y):\n",
    "    # your code here"
   ]
  },
  {
   "cell_type": "markdown",
   "metadata": {},
   "source": [
    "(2 points) Compare precision of results and time of execution of least squered and optimization solutions  \n",
    "Tip: Try to use *%timeit* from ipython magic"
   ]
  },
  {
   "cell_type": "code",
   "execution_count": null,
   "metadata": {},
   "outputs": [],
   "source": []
  },
  {
   "cell_type": "markdown",
   "metadata": {},
   "source": [
    "# Logistic regression "
   ]
  },
  {
   "cell_type": "markdown",
   "metadata": {},
   "source": [
    "(1 point) Implement sigmoid function:\n",
    "$$ \\sigma (z) =  \\frac{\\mathrm{1} }{\\mathrm{1} + e^{-z}}  $$ \n"
   ]
  },
  {
   "cell_type": "code",
   "execution_count": null,
   "metadata": {},
   "outputs": [],
   "source": [
    "def sigmoid(z):\n",
    "    # your code here"
   ]
  },
  {
   "cell_type": "markdown",
   "metadata": {},
   "source": [
    "Vizualize sigmoid to check your code:"
   ]
  },
  {
   "cell_type": "code",
   "execution_count": null,
   "metadata": {},
   "outputs": [],
   "source": [
    "def vizualize_sigmoid(range_min=-10, range_max=10):\n",
    "    x = np.linspace(range_min,range_max,100)   \n",
    "    y = sigmoid(x_axis)\n",
    "    plt.plot(x_axis,y_axis)\n",
    "    plt.show()\n",
    "\n",
    "vizualize_sigmoid()"
   ]
  },
  {
   "cell_type": "markdown",
   "metadata": {},
   "source": [
    "(1 point) Implement predictor for logistic regression:\n",
    "$$ h_\\theta (X) = \\sigma (\\theta^TX) $$"
   ]
  },
  {
   "cell_type": "code",
   "execution_count": null,
   "metadata": {},
   "outputs": [],
   "source": [
    "def logistic_predict(X, theta):\n",
    "    # your code here"
   ]
  },
  {
   "cell_type": "markdown",
   "metadata": {},
   "source": [
    "(2 points) Implement cross entropy cost function:\n",
    "$$ J(\\theta) = -\\dfrac{1}{n}\\sum_{i=1}^{n}(y^{(i)}*log(h_\\theta (X^{(i)}))+(1−y^{(i)})*log(1−h_\\theta (X^{(i)}))) $$"
   ]
  },
  {
   "cell_type": "code",
   "execution_count": null,
   "metadata": {},
   "outputs": [],
   "source": [
    "def logistic_cost(X, y, theta):\n",
    "    # your code here"
   ]
  },
  {
   "cell_type": "markdown",
   "metadata": {},
   "source": [
    "(4 points) Calculate derivative from cross entropy and implement gradient step"
   ]
  },
  {
   "cell_type": "code",
   "execution_count": null,
   "metadata": {},
   "outputs": [],
   "source": [
    "def logistic_gradient(X, y, theta):\n",
    "    # your code here"
   ]
  },
  {
   "cell_type": "markdown",
   "metadata": {},
   "source": [
    "(2 points) Similarly to previous example implement training procedure"
   ]
  },
  {
   "cell_type": "code",
   "execution_count": null,
   "metadata": {},
   "outputs": [],
   "source": [
    "def fit_logistic(X, y, lr=2, max_iter=10, epsilon=0.01, visualize=False):\n",
    "    # your code hear"
   ]
  },
  {
   "cell_type": "markdown",
   "metadata": {},
   "source": [
    "(2 points) Play with different parameters of lr and max_iter, try different datasets.  \n",
    "Does algorithm always find optimal line for separation?   \n",
    "What is a problem? How should optimal line look like to your mind?"
   ]
  },
  {
   "cell_type": "code",
   "execution_count": null,
   "metadata": {
    "scrolled": true
   },
   "outputs": [],
   "source": [
    "X, y = data_generator_logistic_regression()\n",
    "fit_logistic(X, y)"
   ]
  }
 ],
 "metadata": {
  "kernelspec": {
   "display_name": "Python 3",
   "language": "python",
   "name": "python3"
  },
  "language_info": {
   "codemirror_mode": {
    "name": "ipython",
    "version": 3
   },
   "file_extension": ".py",
   "mimetype": "text/x-python",
   "name": "python",
   "nbconvert_exporter": "python",
   "pygments_lexer": "ipython3",
   "version": "3.7.3"
  }
 },
 "nbformat": 4,
 "nbformat_minor": 4
}
