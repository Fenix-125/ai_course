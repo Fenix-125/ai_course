{
 "cells": [
  {
   "cell_type": "code",
   "execution_count": 2,
   "metadata": {},
   "outputs": [],
   "source": [
    "%matplotlib inline\n",
    "from IPython.display import clear_output\n",
    "import matplotlib.pyplot as plt\n",
    "import numpy as np\n",
    "import time\n",
    "from sklearn.datasets import make_blobs, make_moons"
   ]
  },
  {
   "cell_type": "code",
   "execution_count": 3,
   "metadata": {},
   "outputs": [],
   "source": [
    "def add_intercept(X):\n",
    "    # to simplify calculations we add ones column to data for multiplication with intercept\n",
    "    intercept = np.ones((X.shape[0], 1))\n",
    "    return np.concatenate((intercept, X), axis=1)\n",
    "\n",
    "def vizualize_linear_regression(X, y, theta):\n",
    "    plt.scatter(X[:, 1], y, alpha=0.5)\n",
    "    x_axis = np.arange(np.min(X[:, 1]), np.max(X[:, 1]), 0.01).reshape(-1, 1)\n",
    "    y_axis = linear_predict(add_intercept(x_axis), theta)\n",
    "    plt.plot(x_axis, y_axis, lw=2, c=\"r\")\n",
    "    plt.show()\n",
    "\n",
    "def vizualize_logistic_regression(X, y, theta, treshold=0.5):\n",
    "    plt.scatter(X[:, 1], X[:, 2], c=y, alpha=0.5)\n",
    "    eps = 0.00000001\n",
    "    x_axis = np.arange(np.min(X[:, 1]), np.max(X[:, 1]), 0.01).reshape(-1, 1)\n",
    "    y_axis =  - (np.log((1-treshold)/treshold) + add_intercept(x_axis).dot(theta[:2])) / (theta[2] + eps)\n",
    "    plt.plot(x_axis, y_axis, lw=2, c=\"r\")\n",
    "    plt.show()\n",
    "    \n",
    "def data_generator_linear_regression(n=100, intercept=0, coef=np.array([1]), var=0.1):\n",
    "    X = np.random.rand(n, coef.shape[0]) \n",
    "    theta = np.insert(coef, 0, intercept)\n",
    "    y = add_intercept(X).dot(theta) + np.random.normal(0, var, (n))\n",
    "    return X, y\n",
    "\n",
    "def data_generator_logistic_regression(n=100, data=\"blobs\"):\n",
    "    if data == \"blobs\":\n",
    "        X, y = make_blobs(n, centers=2)\n",
    "    elif data == \"moons\":\n",
    "        X, y = make_moons(n)\n",
    "    return X, y"
   ]
  },
  {
   "cell_type": "markdown",
   "metadata": {},
   "source": [
    "# Linear regression"
   ]
  },
  {
   "cell_type": "markdown",
   "metadata": {},
   "source": [
    "(2 points) Implement predictor for linear regression:\n",
    "$$ h_\\theta (X) = \\theta^TX $$"
   ]
  },
  {
   "cell_type": "code",
   "execution_count": 49,
   "metadata": {},
   "outputs": [],
   "source": [
    "def linear_predict(X, theta):\n",
    "    return theta.transpose().dot(X.transpose())"
   ]
  },
  {
   "cell_type": "markdown",
   "metadata": {},
   "source": [
    "(3 points) Implement linear cost function:\n",
    "$$ J(\\theta) = \\dfrac{1}{2n}\\sum_{i=1}^{n}(h_\\theta (X^{(i)})-y^{(i)})^2 $$"
   ]
  },
  {
   "cell_type": "code",
   "execution_count": 73,
   "metadata": {},
   "outputs": [],
   "source": [
    "def linear_cost(X, y, theta):\n",
    "    return 1 / (2 * len(X)) * np.sum(np.power(linear_predict(X, theta) - y, 2))"
   ]
  },
  {
   "cell_type": "markdown",
   "metadata": {},
   "source": [
    "(3 points) Implement gradient function for linear regression:\n",
    "$$\\frac{\\partial}{\\partial \\theta_j} J(\\theta) = \\dfrac{1}{n}\\sum_{i=1}^{n}\\left( h_\\theta(x^{(i)}) - y^{(i)} \\right) x^{(i)} $$"
   ]
  },
  {
   "cell_type": "code",
   "execution_count": 28,
   "metadata": {},
   "outputs": [],
   "source": [
    "def linear_gradient(X, y, theta):\n",
    "    res = 0\n",
    "    for index in range(len(X)):\n",
    "        res += (linear_predict(X[index], theta) - y[index]) * X[index]\n",
    "    return 1 / len(X) * res"
   ]
  },
  {
   "cell_type": "markdown",
   "metadata": {},
   "source": [
    "(2 points) Implement weights initialization and weights update:\n",
    "$$ \\theta = \\theta - \\alpha \\nabla_\\theta J(\\theta) $$"
   ]
  },
  {
   "cell_type": "code",
   "execution_count": 52,
   "metadata": {},
   "outputs": [],
   "source": [
    "def fit_linear(X, y, lr=2, max_iter=10, epsilon=0.01, visualize=False):\n",
    "    X = add_intercept(X)\n",
    "    # randomly initialize weights vector with ones coresponding to X shape\n",
    "    theta = np.random.binomial(len(X[0]), .5, (len(X[0])))# Your code hear\n",
    "    print(theta)\n",
    "    cost = linear_cost(X, y, theta) #################################\n",
    "    cost_list = [cost]\n",
    "    for i in range(max_iter):\n",
    "        # update values of weights based on gradient\n",
    "        theta -= lr * linear_gradient(X, y, theta) * cost# Your code hear\n",
    "        cost = linear_cost(X, y, theta)\n",
    "        cost_list.append(cost)\n",
    "        print(cost)\n",
    "        if visualize == True:\n",
    "            time.sleep(0.1)\n",
    "            clear_output(wait=True)\n",
    "            vizualize_linear_regression(X, y, theta)\n",
    "        \n",
    "        if np.abs(cost_list[-1] - cost_list[-2]) < epsilon:\n",
    "            break \n",
    "    print(\"theta\", theta)\n",
    "    print(\"cost\", cost)\n",
    "    return theta"
   ]
  },
  {
   "cell_type": "markdown",
   "metadata": {},
   "source": [
    "(2 points) Try different parameters of lr and max_iter, what is optimal value? \n",
    "Experiment with different data generators.  \n",
    "Write short summary on experiments.  \n",
    "(In case of single dimensional data you can use vizualization.)"
   ]
  },
  {
   "cell_type": "code",
   "execution_count": 53,
   "metadata": {
    "scrolled": false
   },
   "outputs": [
    {
     "name": "stdout",
     "output_type": "stream",
     "text": [
      "[1 1]\n",
      "[1 1]\n",
      "[1.         0.84523875]\n",
      "[1 1]\n",
      "[1.         0.12063291]\n",
      "[1 1]\n",
      "[1.         0.73263223]\n",
      "[1 1]\n",
      "[1.         0.97239469]\n",
      "[1 1]\n",
      "[1.         0.92657961]\n",
      "[1 1]\n",
      "[1.         0.00878429]\n",
      "[1 1]\n",
      "[1.         0.45885877]\n",
      "[1 1]\n",
      "[1.         0.94131367]\n",
      "[1 1]\n",
      "[1.         0.57301817]\n",
      "[1 1]\n",
      "[1.         0.96770059]\n",
      "[1 1]\n",
      "[1.         0.02393053]\n",
      "[1 1]\n",
      "[1.         0.64804311]\n",
      "[1 1]\n",
      "[1.         0.22383842]\n",
      "[1 1]\n",
      "[1.        0.3354509]\n",
      "[1 1]\n",
      "[1.         0.99064424]\n",
      "[1 1]\n",
      "[1.         0.70071614]\n",
      "[1 1]\n",
      "[1.         0.97534152]\n",
      "[1 1]\n",
      "[1.         0.81358183]\n",
      "[1 1]\n",
      "[1.        0.0247395]\n",
      "[1 1]\n",
      "[1.         0.66719776]\n",
      "[1 1]\n",
      "[1.         0.47767535]\n",
      "[1 1]\n",
      "[1.         0.67326811]\n",
      "[1 1]\n",
      "[1.         0.04490161]\n",
      "[1 1]\n",
      "[1.         0.22143023]\n",
      "[1 1]\n",
      "[1.         0.48356311]\n",
      "[1 1]\n",
      "[1.         0.53528319]\n",
      "[1 1]\n",
      "[1.         0.84571282]\n",
      "[1 1]\n",
      "[1.         0.39630357]\n",
      "[1 1]\n",
      "[1.         0.47089577]\n",
      "[1 1]\n",
      "[1.         0.63214359]\n",
      "[1 1]\n",
      "[1.         0.15043492]\n",
      "[1 1]\n",
      "[1.        0.5737978]\n",
      "[1 1]\n",
      "[1.         0.87627883]\n",
      "[1 1]\n",
      "[1.         0.44592231]\n",
      "[1 1]\n",
      "[1.         0.93490855]\n",
      "[1 1]\n",
      "[1.         0.89567492]\n",
      "[1 1]\n",
      "[1.         0.91353683]\n",
      "[1 1]\n",
      "[1.        0.1329068]\n",
      "[1 1]\n",
      "[1.         0.07639564]\n",
      "[1 1]\n",
      "[1.         0.77162394]\n",
      "[1 1]\n",
      "[1.         0.45264478]\n",
      "[1 1]\n",
      "[1.        0.8299556]\n",
      "[1 1]\n",
      "[1.         0.11006976]\n",
      "[1 1]\n",
      "[1.         0.25038891]\n",
      "[1 1]\n",
      "[1.         0.94316213]\n",
      "[1 1]\n",
      "[1.         0.19326506]\n",
      "[1 1]\n",
      "[1.         0.42440146]\n",
      "[1 1]\n",
      "[1.         0.92316391]\n",
      "[1 1]\n",
      "[1.         0.09109452]\n",
      "[1 1]\n",
      "[1.         0.11459834]\n",
      "[1 1]\n",
      "[1.         0.79624589]\n",
      "[1 1]\n",
      "[1.         0.34359722]\n",
      "[1 1]\n",
      "[1.         0.24886472]\n",
      "[1 1]\n",
      "[1.         0.70182606]\n",
      "[1 1]\n",
      "[1.         0.29082417]\n",
      "[1 1]\n",
      "[1.         0.95297018]\n",
      "[1 1]\n",
      "[1.         0.12487283]\n",
      "[1 1]\n",
      "[1.         0.14817644]\n",
      "[1 1]\n",
      "[1.         0.59192723]\n",
      "[1 1]\n",
      "[1.        0.2862365]\n",
      "[1 1]\n",
      "[1.         0.75979885]\n",
      "[1 1]\n",
      "[1.         0.43501811]\n",
      "[1 1]\n",
      "[1.         0.86748393]\n",
      "[1 1]\n",
      "[1.         0.33252952]\n",
      "[1 1]\n",
      "[1.         0.02310634]\n",
      "[1 1]\n",
      "[1.         0.11285971]\n",
      "[1 1]\n",
      "[1.         0.52714725]\n",
      "[1 1]\n",
      "[1.         0.11989967]\n",
      "[1 1]\n",
      "[1.         0.36811426]\n",
      "[1 1]\n",
      "[1.         0.53619464]\n",
      "[1 1]\n",
      "[1.         0.30912559]\n",
      "[1 1]\n",
      "[1.         0.66483234]\n",
      "[1 1]\n",
      "[1.         0.17537789]\n",
      "[1 1]\n",
      "[1.         0.80139643]\n",
      "[1 1]\n",
      "[1.        0.2552939]\n",
      "[1 1]\n",
      "[1.         0.41833005]\n",
      "[1 1]\n",
      "[1.         0.42509718]\n",
      "[1 1]\n",
      "[1.         0.95962311]\n",
      "[1 1]\n",
      "[1.         0.45209894]\n",
      "[1 1]\n",
      "[1.         0.43864653]\n",
      "[1 1]\n",
      "[1.         0.63390334]\n",
      "[1 1]\n",
      "[1.         0.07009116]\n",
      "[1 1]\n",
      "[1.      0.09206]\n",
      "[1 1]\n",
      "[1.         0.12808243]\n",
      "[1 1]\n",
      "[1.         0.50428836]\n",
      "[1 1]\n",
      "[1.         0.48089899]\n",
      "[1 1]\n",
      "[1.         0.05075586]\n",
      "[1 1]\n",
      "[1.         0.18367997]\n",
      "[1 1]\n",
      "[1.         0.72860219]\n",
      "[1 1]\n",
      "[1.         0.97676782]\n",
      "[1 1]\n",
      "[1.         0.59078763]\n",
      "[1 1]\n",
      "[1.         0.96875857]\n",
      "[1 1]\n",
      "[1.         0.39990896]\n",
      "[1 1]\n",
      "[1.         0.11660412]\n",
      "[1 1]\n",
      "[1.        0.6233613]\n",
      "[1 1]\n",
      "[1.         0.59297662]\n",
      "[1 1]\n",
      "[1.         0.30410164]\n",
      "[1 1]\n",
      "[1.         0.84444127]\n",
      "[1 1]\n",
      "[1.         0.07227691]\n",
      "[1 1]\n",
      "[1.         0.29645429]\n",
      "[1 1]\n",
      "[1.         0.84523875]\n",
      "[1 1]\n",
      "[1.         0.12063291]\n",
      "[1 1]\n",
      "[1.         0.73263223]\n",
      "[1 1]\n",
      "[1.         0.97239469]\n",
      "[1 1]\n",
      "[1.         0.92657961]\n",
      "[1 1]\n",
      "[1.         0.00878429]\n",
      "[1 1]\n",
      "[1.         0.45885877]\n",
      "[1 1]\n",
      "[1.         0.94131367]\n",
      "[1 1]\n",
      "[1.         0.57301817]\n",
      "[1 1]\n",
      "[1.         0.96770059]\n",
      "[1 1]\n",
      "[1.         0.02393053]\n",
      "[1 1]\n",
      "[1.         0.64804311]\n",
      "[1 1]\n",
      "[1.         0.22383842]\n",
      "[1 1]\n",
      "[1.        0.3354509]\n",
      "[1 1]\n",
      "[1.         0.99064424]\n",
      "[1 1]\n",
      "[1.         0.70071614]\n",
      "[1 1]\n",
      "[1.         0.97534152]\n",
      "[1 1]\n",
      "[1.         0.81358183]\n",
      "[1 1]\n",
      "[1.        0.0247395]\n",
      "[1 1]\n",
      "[1.         0.66719776]\n",
      "[1 1]\n",
      "[1.         0.47767535]\n",
      "[1 1]\n",
      "[1.         0.67326811]\n",
      "[1 1]\n",
      "[1.         0.04490161]\n",
      "[1 1]\n",
      "[1.         0.22143023]\n",
      "[1 1]\n",
      "[1.         0.48356311]\n",
      "[1 1]\n",
      "[1.         0.53528319]\n",
      "[1 1]\n",
      "[1.         0.84571282]\n",
      "[1 1]\n",
      "[1.         0.39630357]\n",
      "[1 1]\n",
      "[1.         0.47089577]\n",
      "[1 1]\n",
      "[1.         0.63214359]\n",
      "[1 1]\n",
      "[1.         0.15043492]\n",
      "[1 1]\n",
      "[1.        0.5737978]\n",
      "[1 1]\n",
      "[1.         0.87627883]\n",
      "[1 1]\n",
      "[1.         0.44592231]\n",
      "[1 1]\n",
      "[1.         0.93490855]\n",
      "[1 1]\n",
      "[1.         0.89567492]\n",
      "[1 1]\n",
      "[1.         0.91353683]\n",
      "[1 1]\n",
      "[1.        0.1329068]\n",
      "[1 1]\n",
      "[1.         0.07639564]\n",
      "[1 1]\n",
      "[1.         0.77162394]\n",
      "[1 1]\n",
      "[1.         0.45264478]\n",
      "[1 1]\n",
      "[1.        0.8299556]\n",
      "[1 1]\n",
      "[1.         0.11006976]\n",
      "[1 1]\n",
      "[1.         0.25038891]\n",
      "[1 1]\n",
      "[1.         0.94316213]\n",
      "[1 1]\n",
      "[1.         0.19326506]\n",
      "[1 1]\n",
      "[1.         0.42440146]\n",
      "[1 1]\n",
      "[1.         0.92316391]\n",
      "[1 1]\n",
      "[1.         0.09109452]\n",
      "[1 1]\n",
      "[1.         0.11459834]\n",
      "[1 1]\n",
      "[1.         0.79624589]\n",
      "[1 1]\n",
      "[1.         0.34359722]\n",
      "[1 1]\n",
      "[1.         0.24886472]\n",
      "[1 1]\n",
      "[1.         0.70182606]\n",
      "[1 1]\n",
      "[1.         0.29082417]\n",
      "[1 1]\n",
      "[1.         0.95297018]\n",
      "[1 1]\n",
      "[1.         0.12487283]\n",
      "[1 1]\n",
      "[1.         0.14817644]\n",
      "[1 1]\n",
      "[1.         0.59192723]\n",
      "[1 1]\n",
      "[1.        0.2862365]\n",
      "[1 1]\n",
      "[1.         0.75979885]\n",
      "[1 1]\n",
      "[1.         0.43501811]\n",
      "[1 1]\n",
      "[1.         0.86748393]\n",
      "[1 1]\n",
      "[1.         0.33252952]\n",
      "[1 1]\n",
      "[1.         0.02310634]\n",
      "[1 1]\n",
      "[1.         0.11285971]\n",
      "[1 1]\n",
      "[1.         0.52714725]\n",
      "[1 1]\n",
      "[1.         0.11989967]\n",
      "[1 1]\n",
      "[1.         0.36811426]\n",
      "[1 1]\n",
      "[1.         0.53619464]\n",
      "[1 1]\n",
      "[1.         0.30912559]\n",
      "[1 1]\n",
      "[1.         0.66483234]\n",
      "[1 1]\n",
      "[1.         0.17537789]\n",
      "[1 1]\n",
      "[1.         0.80139643]\n",
      "[1 1]\n",
      "[1.        0.2552939]\n",
      "[1 1]\n",
      "[1.         0.41833005]\n",
      "[1 1]\n",
      "[1.         0.42509718]\n",
      "[1 1]\n",
      "[1.         0.95962311]\n",
      "[1 1]\n",
      "[1.         0.45209894]\n",
      "[1 1]\n",
      "[1.         0.43864653]\n",
      "[1 1]\n",
      "[1.         0.63390334]\n",
      "[1 1]\n",
      "[1.         0.07009116]\n",
      "[1 1]\n",
      "[1.      0.09206]\n",
      "[1 1]\n",
      "[1.         0.12808243]\n",
      "[1 1]\n",
      "[1.         0.50428836]\n",
      "[1 1]\n",
      "[1.         0.48089899]\n",
      "[1 1]\n",
      "[1.         0.05075586]\n",
      "[1 1]\n",
      "[1.         0.18367997]\n",
      "[1 1]\n",
      "[1.         0.72860219]\n",
      "[1 1]\n",
      "[1.         0.97676782]\n",
      "[1 1]\n",
      "[1.         0.59078763]\n",
      "[1 1]\n",
      "[1.         0.96875857]\n",
      "[1 1]\n",
      "[1.         0.39990896]\n",
      "[1 1]\n",
      "[1.         0.11660412]\n",
      "[1 1]\n",
      "[1.        0.6233613]\n",
      "[1 1]\n",
      "[1.         0.59297662]\n",
      "[1 1]\n",
      "[1.         0.30410164]\n",
      "[1 1]\n",
      "[1.         0.84444127]\n",
      "[1 1]\n",
      "[1.         0.07227691]\n",
      "[1 1]\n",
      "[1.         0.29645429]\n"
     ]
    },
    {
     "ename": "UFuncTypeError",
     "evalue": "Cannot cast ufunc 'subtract' output from dtype('float64') to dtype('int64') with casting rule 'same_kind'",
     "output_type": "error",
     "traceback": [
      "\u001B[0;31m---------------------------------------------------------------------------\u001B[0m",
      "\u001B[0;31mUFuncTypeError\u001B[0m                            Traceback (most recent call last)",
      "\u001B[0;32m<ipython-input-53-aa113f4ea6a8>\u001B[0m in \u001B[0;36m<module>\u001B[0;34m\u001B[0m\n\u001B[1;32m      1\u001B[0m \u001B[0mX\u001B[0m\u001B[0;34m,\u001B[0m \u001B[0my\u001B[0m \u001B[0;34m=\u001B[0m \u001B[0mdata_generator_linear_regression\u001B[0m\u001B[0;34m(\u001B[0m\u001B[0;34m)\u001B[0m\u001B[0;34m\u001B[0m\u001B[0;34m\u001B[0m\u001B[0m\n\u001B[0;32m----> 2\u001B[0;31m \u001B[0mfit_linear\u001B[0m\u001B[0;34m(\u001B[0m\u001B[0mX\u001B[0m\u001B[0;34m,\u001B[0m \u001B[0my\u001B[0m\u001B[0;34m,\u001B[0m \u001B[0mlr\u001B[0m\u001B[0;34m=\u001B[0m\u001B[0;36m1\u001B[0m\u001B[0;34m,\u001B[0m \u001B[0mvisualize\u001B[0m\u001B[0;34m=\u001B[0m\u001B[0;32mTrue\u001B[0m\u001B[0;34m)\u001B[0m\u001B[0;34m\u001B[0m\u001B[0;34m\u001B[0m\u001B[0m\n\u001B[0m\u001B[1;32m      3\u001B[0m \u001B[0;34m\u001B[0m\u001B[0m\n",
      "\u001B[0;32m<ipython-input-52-b9658baf1a2d>\u001B[0m in \u001B[0;36mfit_linear\u001B[0;34m(X, y, lr, max_iter, epsilon, visualize)\u001B[0m\n\u001B[1;32m      8\u001B[0m     \u001B[0;32mfor\u001B[0m \u001B[0mi\u001B[0m \u001B[0;32min\u001B[0m \u001B[0mrange\u001B[0m\u001B[0;34m(\u001B[0m\u001B[0mmax_iter\u001B[0m\u001B[0;34m)\u001B[0m\u001B[0;34m:\u001B[0m\u001B[0;34m\u001B[0m\u001B[0;34m\u001B[0m\u001B[0m\n\u001B[1;32m      9\u001B[0m         \u001B[0;31m# update values of weights based on gradient\u001B[0m\u001B[0;34m\u001B[0m\u001B[0;34m\u001B[0m\u001B[0;34m\u001B[0m\u001B[0m\n\u001B[0;32m---> 10\u001B[0;31m         \u001B[0mtheta\u001B[0m \u001B[0;34m-=\u001B[0m \u001B[0mlr\u001B[0m \u001B[0;34m*\u001B[0m \u001B[0mlinear_gradient\u001B[0m\u001B[0;34m(\u001B[0m\u001B[0mX\u001B[0m\u001B[0;34m,\u001B[0m \u001B[0my\u001B[0m\u001B[0;34m,\u001B[0m \u001B[0mtheta\u001B[0m\u001B[0;34m)\u001B[0m \u001B[0;34m*\u001B[0m \u001B[0mcost\u001B[0m\u001B[0;31m# Your code hear\u001B[0m\u001B[0;34m\u001B[0m\u001B[0;34m\u001B[0m\u001B[0m\n\u001B[0m\u001B[1;32m     11\u001B[0m         \u001B[0mcost\u001B[0m \u001B[0;34m=\u001B[0m \u001B[0mlinear_cost\u001B[0m\u001B[0;34m(\u001B[0m\u001B[0mX\u001B[0m\u001B[0;34m,\u001B[0m \u001B[0my\u001B[0m\u001B[0;34m,\u001B[0m \u001B[0mtheta\u001B[0m\u001B[0;34m)\u001B[0m\u001B[0;34m\u001B[0m\u001B[0;34m\u001B[0m\u001B[0m\n\u001B[1;32m     12\u001B[0m         \u001B[0mcost_list\u001B[0m\u001B[0;34m.\u001B[0m\u001B[0mappend\u001B[0m\u001B[0;34m(\u001B[0m\u001B[0mcost\u001B[0m\u001B[0;34m)\u001B[0m\u001B[0;34m\u001B[0m\u001B[0;34m\u001B[0m\u001B[0m\n",
      "\u001B[0;31mUFuncTypeError\u001B[0m: Cannot cast ufunc 'subtract' output from dtype('float64') to dtype('int64') with casting rule 'same_kind'"
     ]
    }
   ],
   "source": [
    "X, y = data_generator_linear_regression()\n",
    "fit_linear(X, y, lr=1, visualize=True)"
   ]
  },
  {
   "cell_type": "markdown",
   "metadata": {},
   "source": [
    "(4 points) Try to find coeficients just with linear algebra toolbox instead of optimization:"
   ]
  },
  {
   "cell_type": "code",
   "execution_count": 54,
   "metadata": {},
   "outputs": [],
   "source": [
    "def least_squere(X, y):\n",
    "    return np.linalg.lstsq(X, y)"
   ]
  },
  {
   "cell_type": "markdown",
   "metadata": {},
   "source": [
    "(2 points) Compare precision of results and time of execution of least squered and optimization solutions  \n",
    "Tip: Try to use *%timeit* from ipython magic"
   ]
  },
  {
   "cell_type": "code",
   "execution_count": 57,
   "metadata": {},
   "outputs": [
    {
     "name": "stderr",
     "output_type": "stream",
     "text": [
      "<ipython-input-54-6b6264c0d8c8>:2: FutureWarning: `rcond` parameter will change to the default of machine precision times ``max(M, N)`` where M and N are the input matrix dimensions.\n",
      "To use the future default and silence this warning we advise to pass `rcond=None`, to keep using the old, explicitly pass `rcond=-1`.\n",
      "  return np.linalg.lstsq(X, y)\n"
     ]
    },
    {
     "name": "stdout",
     "output_type": "stream",
     "text": [
      "25.6 ms ± 1.55 ms per loop (mean ± std. dev. of 7 runs, 1 loop each)\n",
      "25.5 ms ± 588 µs per loop (mean ± std. dev. of 7 runs, 10 loops each)\n"
     ]
    }
   ],
   "source": [
    "X = np.array([\n",
    "        [1, -0.5, 3, 1],\n",
    "        [1, 8, -0.33, 5],\n",
    "        [1, 0, 0, 0]\n",
    "    ])\n",
    "y = np.array([40, 100, 12])\n",
    "\n",
    "%timeit for _ in range(1000): least_squere(X, y)\n"
   ]
  },
  {
   "cell_type": "markdown",
   "metadata": {},
   "source": [
    "# Logistic regression "
   ]
  },
  {
   "cell_type": "markdown",
   "metadata": {},
   "source": [
    "(1 point) Implement sigmoid function:\n",
    "$$ \\sigma (z) =  \\frac{\\mathrm{1} }{\\mathrm{1} + e^{-z}}  $$ \n"
   ]
  },
  {
   "cell_type": "code",
   "execution_count": 67,
   "metadata": {},
   "outputs": [
    {
     "data": {
      "text/plain": "array([1.        , 1.        , 0.99999386])"
     },
     "execution_count": 67,
     "metadata": {},
     "output_type": "execute_result"
    }
   ],
   "source": [
    "def sigmoid(z):\n",
    "    return 1 / (1 + np.exp(-z))"
   ]
  },
  {
   "cell_type": "markdown",
   "source": [
    "Vizualize sigmoid to check your code:"
   ],
   "metadata": {
    "collapsed": false
   }
  },
  {
   "cell_type": "code",
   "execution_count": 68,
   "metadata": {},
   "outputs": [
    {
     "data": {
      "text/plain": "<Figure size 432x288 with 1 Axes>",
      "image/png": "[encoded data removed]"
     },
     "metadata": {
      "needs_background": "light"
     },
     "output_type": "display_data"
    }
   ],
   "source": [
    "def vizualize_sigmoid(range_min=-10, range_max=10):\n",
    "    x_axis = np.linspace(range_min,range_max,100)   \n",
    "    y_axis = sigmoid(x_axis)\n",
    "    plt.plot(x_axis,y_axis)\n",
    "    plt.show()\n",
    "\n",
    "vizualize_sigmoid()"
   ]
  },
  {
   "cell_type": "markdown",
   "metadata": {},
   "source": [
    "(1 point) Implement predictor for logistic regression:\n",
    "$$ h_\\theta (X) = \\sigma (\\theta^TX) $$"
   ]
  },
  {
   "cell_type": "code",
   "execution_count": 69,
   "metadata": {},
   "outputs": [],
   "source": [
    "def logistic_predict(X, theta):\n",
    "    return sigmoid(linear_predict(X, theta))"
   ]
  },
  {
   "cell_type": "markdown",
   "metadata": {},
   "source": [
    "(2 points) Implement cross entropy cost function:\n",
    "$$ J(\\theta) = -\\dfrac{1}{n}\\sum_{i=1}^{n}(y^{(i)}*log(h_\\theta (X^{(i)}))+(1−y^{(i)})*log(1−h_\\theta (X^{(i)}))) $$"
   ]
  },
  {
   "cell_type": "code",
   "execution_count": null,
   "metadata": {},
   "outputs": [],
   "source": [
    "def logistic_cost(X, y, theta):\n",
    "    return"
   ]
  },
  {
   "cell_type": "markdown",
   "metadata": {},
   "source": [
    "(4 points) Calculate derivative from cross entropy and implement gradient step"
   ]
  },
  {
   "cell_type": "code",
   "execution_count": null,
   "metadata": {},
   "outputs": [],
   "source": [
    "def logistic_gradient(X, y, theta):\n",
    "    # your code hear"
   ]
  },
  {
   "cell_type": "markdown",
   "metadata": {},
   "source": [
    "(2 points) Similarly to previous example implement training procedure"
   ]
  },
  {
   "cell_type": "code",
   "execution_count": null,
   "metadata": {},
   "outputs": [],
   "source": [
    "def fit_logistic(X, y, lr=2, max_iter=10, epsilon=0.0001, visualize=False):\n",
    "    # your code hear"
   ]
  },
  {
   "cell_type": "markdown",
   "metadata": {},
   "source": [
    "(2 points) Play with different parameters of lr and max_iter, try different datasets.  \n",
    "Does algorithm always find optimal line for separation?   \n",
    "What is a problem? How should optimal line look like to your mind?"
   ]
  },
  {
   "cell_type": "code",
   "execution_count": null,
   "metadata": {
    "scrolled": true
   },
   "outputs": [],
   "source": [
    "X, y = data_generator_logistic_regression()"
   ]
  },
  {
   "cell_type": "code",
   "execution_count": null,
   "metadata": {},
   "outputs": [],
   "source": [
    "fit_logistic(X,y, lr=1, visualize=True)"
   ]
  },
  {
   "cell_type": "code",
   "execution_count": 71,
   "metadata": {},
   "outputs": [],
   "source": [
    "import unittest\n",
    "\n",
    "class LinearRegresionTests(unittest.TestCase):\n",
    "\n",
    "    X = np.array([\n",
    "        [1, -0.5, 3, 1],\n",
    "        [1, 8, -0.33, 5],\n",
    "        [1, 0, 0, 0]\n",
    "    ])\n",
    "    y = np.array([40, 100, 12])\n",
    "    y_bin = np.array([0, 1, 0])\n",
    "    theta = np.array([2, 5, 7, 9])\n",
    "    eps = 0.001\n",
    "\n",
    "    def assertFloatEquals(self, a, b):\n",
    "        self.assertTrue(np.abs(a - b) < self.eps)\n",
    "    \n",
    "    def assertArrayEquals(self, a, b):\n",
    "        a = np.array(a)\n",
    "        b = np.array(b)\n",
    "        self.assertEqual(a.shape, b.shape)\n",
    "        self.assertTrue(np.all(np.abs(a - b) < self.eps))\n",
    "    \n",
    "    def test_linear_predict_for_single_example(self):\n",
    "        expected = 29.5\n",
    "        actual = linear_predict(self.X[0], self.theta)\n",
    "        self.assertFloatEquals(actual, expected)\n",
    "    \n",
    "    def test_linear_predict_for_multiple_examples(self):\n",
    "        expected = [29.5, 84.69, 2.]\n",
    "        actual = linear_predict(self.X, self.theta)\n",
    "        self.assertArrayEquals(actual, expected)\n",
    "        \n",
    "    def test_linear_cost(self):\n",
    "        expected = 74.107\n",
    "        actual = linear_cost(self.X, self.y, self.theta)\n",
    "        self.assertFloatEquals(actual, expected)\n",
    "        \n",
    "    def test_linear_gradient(self):\n",
    "        expected = [-11.936, -39.076, -8.815, -29.016]\n",
    "        actual = linear_gradient(self.X, self.y, self.theta)\n",
    "        self.assertArrayEquals(actual, expected)\n",
    "    \n",
    "    def test_sigmoid(self):\n",
    "        expected = [1., 1., 0.999]\n",
    "        actual = sigmoid(self.y)\n",
    "        self.assertArrayEquals(actual, expected)\n",
    "    \n",
    "    def test_logistic_predict_for_single_example(self):\n",
    "        expected = 0.88\n",
    "        actual = logistic_predict(self.X[2], self.theta)\n",
    "        self.assertFloatEquals(actual, expected)\n",
    "    \n",
    "    def test_logistic_predict_for_multiple_examples(self):\n",
    "        expected = [1, 1, 0.88]\n",
    "        actual = logistic_predict(self.X, self.theta)\n",
    "        self.assertArrayEquals(actual, expected)\n",
    "        \n",
    "    def test_logistic_cost(self):\n",
    "        expected = 4.546\n",
    "        actual = logistic_cost(self.X, self.y_bin, self.theta)\n",
    "        self.assertFloatEquals(actual, expected)\n",
    "        \n",
    "    def test_logistic_gradient(self):\n",
    "        expected = [0.626, -0.166,  1, 0.333]\n",
    "        actual = logistic_gradient(self.X, self.y_bin, self.theta)\n",
    "        self.assertArrayEquals(actual, expected)"
   ]
  },
  {
   "cell_type": "code",
   "execution_count": 74,
   "metadata": {},
   "outputs": [
    {
     "name": "stderr",
     "output_type": "stream",
     "text": [
      "test_linear_cost (__main__.LinearRegresionTests) ... ok\n",
      "test_linear_gradient (__main__.LinearRegresionTests) ... ok\n",
      "test_linear_predict_for_multiple_examples (__main__.LinearRegresionTests) ... ok\n",
      "test_linear_predict_for_single_example (__main__.LinearRegresionTests) ... ok\n",
      "test_logistic_cost (__main__.LinearRegresionTests) ... ERROR\n",
      "test_logistic_gradient (__main__.LinearRegresionTests) ... ERROR\n",
      "test_logistic_predict_for_multiple_examples (__main__.LinearRegresionTests) ... ok\n",
      "test_logistic_predict_for_single_example (__main__.LinearRegresionTests) ... ok\n",
      "test_sigmoid (__main__.LinearRegresionTests) ... ok\n",
      "\n",
      "======================================================================\n",
      "ERROR: test_logistic_cost (__main__.LinearRegresionTests)\n",
      "----------------------------------------------------------------------\n",
      "Traceback (most recent call last):\n",
      "  File \"<ipython-input-71-1edfbe6eefa8>\", line 61, in test_logistic_cost\n",
      "    actual = logistic_cost(self.X, self.y_bin, self.theta)\n",
      "NameError: name 'logistic_cost' is not defined\n",
      "\n",
      "======================================================================\n",
      "ERROR: test_logistic_gradient (__main__.LinearRegresionTests)\n",
      "----------------------------------------------------------------------\n",
      "Traceback (most recent call last):\n",
      "  File \"<ipython-input-71-1edfbe6eefa8>\", line 66, in test_logistic_gradient\n",
      "    actual = logistic_gradient(self.X, self.y_bin, self.theta)\n",
      "NameError: name 'logistic_gradient' is not defined\n",
      "\n",
      "----------------------------------------------------------------------\n",
      "Ran 9 tests in 0.015s\n",
      "\n",
      "FAILED (errors=2)\n"
     ]
    },
    {
     "name": "stdout",
     "output_type": "stream",
     "text": [
      "[2 5 7 9]\n",
      "[[ 1.   -0.5   3.    1.  ]\n",
      " [ 1.    8.   -0.33  5.  ]\n",
      " [ 1.    0.    0.    0.  ]]\n",
      "[2 5 7 9]\n",
      "[ 1.  -0.5  3.   1. ]\n",
      "[2 5 7 9]\n",
      "[ 1.    8.   -0.33  5.  ]\n",
      "[2 5 7 9]\n",
      "[1. 0. 0. 0.]\n",
      "[2 5 7 9]\n",
      "[[ 1.   -0.5   3.    1.  ]\n",
      " [ 1.    8.   -0.33  5.  ]\n",
      " [ 1.    0.    0.    0.  ]]\n",
      "[2 5 7 9]\n",
      "[ 1.  -0.5  3.   1. ]\n",
      "[2 5 7 9]\n",
      "[[ 1.   -0.5   3.    1.  ]\n",
      " [ 1.    8.   -0.33  5.  ]\n",
      " [ 1.    0.    0.    0.  ]]\n",
      "[2 5 7 9]\n",
      "[1. 0. 0. 0.]\n"
     ]
    },
    {
     "data": {
      "text/plain": "<unittest.main.TestProgram at 0x7fd7e2c95910>"
     },
     "execution_count": 74,
     "metadata": {},
     "output_type": "execute_result"
    }
   ],
   "source": [
    "unittest.main(argv=[''], verbosity=2, exit=False)"
   ]
  }
 ],
 "metadata": {
  "kernelspec": {
   "name": "pycharm-9bca0d8",
   "language": "python",
   "display_name": "PyCharm (lab_1)"
  },
  "language_info": {
   "codemirror_mode": {
    "name": "ipython",
    "version": 3
   },
   "file_extension": ".py",
   "mimetype": "text/x-python",
   "name": "python",
   "nbconvert_exporter": "python",
   "pygments_lexer": "ipython3",
   "version": "3.7.3"
  }
 },
 "nbformat": 4,
 "nbformat_minor": 4
}